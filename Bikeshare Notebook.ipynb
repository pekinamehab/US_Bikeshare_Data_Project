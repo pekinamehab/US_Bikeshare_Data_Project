{
 "cells": [
  {
   "cell_type": "markdown",
   "id": "81993810",
   "metadata": {},
   "source": [
    "# US Bikeshare Data - Data Analysis Nannodegree Project\n",
    "\n",
    "The purpose of this project is to uncover bikeshare usage patterns by using data given by one of the bikeshare system providers."
   ]
  },
  {
   "cell_type": "markdown",
   "id": "c2e17513",
   "metadata": {},
   "source": [
    "**First we have to do some imports**"
   ]
  },
  {
   "cell_type": "code",
   "execution_count": 1,
   "id": "1463f665",
   "metadata": {},
   "outputs": [],
   "source": [
    "import time\n",
    "import pandas as pd\n",
    "import numpy as np"
   ]
  },
  {
   "cell_type": "markdown",
   "id": "f9843fc6",
   "metadata": {},
   "source": [
    "**This next line is so that later on we are able to view all the columns in the result table**"
   ]
  },
  {
   "cell_type": "code",
   "execution_count": 2,
   "id": "8ed376b0",
   "metadata": {},
   "outputs": [],
   "source": [
    "pd.set_option(\"display.max_columns\", 200)"
   ]
  },
  {
   "cell_type": "markdown",
   "id": "ef856370",
   "metadata": {},
   "source": [
    "**Next we have the dictionary that maps the available city names to the csv file names that contain the data**"
   ]
  },
  {
   "cell_type": "code",
   "execution_count": 3,
   "id": "59bfa615",
   "metadata": {},
   "outputs": [],
   "source": [
    "CITY_DATA = { 'chicago': 'chicago.csv',\n",
    "              'new york city': 'new_york_city.csv',\n",
    "              'washington': 'washington.csv' }"
   ]
  },
  {
   "cell_type": "markdown",
   "id": "08ad7470",
   "metadata": {},
   "source": [
    "### Get Filters (function)\n",
    "\n",
    "This function asks the user to specify a city, month, and day to analyze.\n",
    "\n",
    "**It returns:**\n",
    "- (str) city - name of the city to analyze\n",
    "- (str) month - name of the month to filter by, or \"all\" to apply no month filter\n",
    "- (str) day - name of the day of week to filter by, or \"all\" to apply no day filter"
   ]
  },
  {
   "cell_type": "code",
   "execution_count": 4,
   "id": "baadf831",
   "metadata": {},
   "outputs": [],
   "source": [
    "def get_filters():\n",
    "    print('Hello! Let\\'s explore some US bikeshare data!')\n",
    "    # get user input for city (chicago, new york city, washington).\n",
    "    city = input(\"Please enter a city name: \").lower()\n",
    "    while city.lower() not in CITY_DATA:\n",
    "        city = input(\"Please re-enter the city name: \").lower()\n",
    "\n",
    "    # get user input for month (all, january, february, ... , june)\n",
    "    months = ['all', 'january', 'february', 'march', 'april', 'may', 'june']\n",
    "    month = input(\"Please enter a month name or the word all if you do not want to filter: \").lower()\n",
    "    while month.lower() not in months:\n",
    "        month = input(\"Please re-enter the month name: \").lower()\n",
    "\n",
    "    # get user input for day of week (all, monday, tuesday, ... sunday)\n",
    "    days = ['all', 'monday', 'tuesday', 'wednesday', 'thursday', 'friday', 'saturday', 'sunday']\n",
    "    day = input(\"Please enter a day of the week or the word all if you do not want to filter: \").lower()\n",
    "    while day.lower() not in days:\n",
    "        day = input(\"Please re-enter the day name: \").lower()\n",
    "\n",
    "    print('-'*40)\n",
    "    return city, month, day"
   ]
  },
  {
   "cell_type": "markdown",
   "id": "51543188",
   "metadata": {},
   "source": [
    "### Load Data (function)\n",
    "\n",
    "This function loads data for the specified city and filters by month and day if applicable.\n",
    "\n",
    "**The arguements that it takes are:**\n",
    "- (str) city - name of the city to analyze\n",
    "- (str) month - name of the month to filter by, or \"all\" to apply no month filter\n",
    "- (str) day - name of the day of week to filter by, or \"all\" to apply no day filter\n",
    "\n",
    "**It returns:**\n",
    "- df - Pandas DataFrame containing city data filtered by month and day"
   ]
  },
  {
   "cell_type": "code",
   "execution_count": 5,
   "id": "64f1caa9",
   "metadata": {},
   "outputs": [],
   "source": [
    "def load_data(city, month, day):\n",
    "    \n",
    "     # load data file into a dataframe\n",
    "    df = pd.read_csv(CITY_DATA[city])\n",
    "\n",
    "    # convert the Start Time column to datetime\n",
    "    df['Start Time'] = pd.to_datetime(df['Start Time'])\n",
    "\n",
    "    # extract month and day of week from Start Time to create new columns\n",
    "    df['month'] = df['Start Time'].dt.month\n",
    "    df['day_of_week'] = df['Start Time'].dt.strftime(\"%A\")\n",
    "\n",
    "    # filter by month if applicable\n",
    "    if month != 'all':\n",
    "        # use the index of the months list to get the corresponding int\n",
    "        months = ['january', 'february', 'march', 'april', 'may', 'june']\n",
    "        month = months.index(month) + 1\n",
    "\n",
    "        # filter by month to create the new dataframe\n",
    "        df = df[df['month'] == month]\n",
    "\n",
    "    # filter by day of week if applicable\n",
    "    if day != 'all':\n",
    "        # filter by day of week to create the new dataframe\n",
    "        df = df[df['day_of_week'] == day.title()]\n",
    "\n",
    "    return df"
   ]
  },
  {
   "cell_type": "markdown",
   "id": "43fe6d5b",
   "metadata": {},
   "source": [
    "### Time Stats (function)\n",
    "\n",
    "This function displays statistics on the most frequent times of travel.\n",
    "\n",
    "**The arguements that it takes in are:**\n",
    "- df - Pandas DataFrame containing city data filtered by month and day"
   ]
  },
  {
   "cell_type": "code",
   "execution_count": 6,
   "id": "e66cb252",
   "metadata": {},
   "outputs": [],
   "source": [
    "def time_stats(df):\n",
    "\n",
    "    print('\\nCalculating The Most Frequent Times of Travel...\\n')\n",
    "    start_time = time.time()\n",
    "\n",
    "    # display the most common month\n",
    "    popular_month = df['month'].mode()[0]\n",
    "    print(\"The most popular month is: \", popular_month)\n",
    "\n",
    "    # display the most common day of week\n",
    "    popular_day = df['day_of_week'].mode()[0]\n",
    "    print(\"The most popular day of the week is: \", popular_day)\n",
    "\n",
    "    # display the most common start hour\n",
    "    df['hour'] = df['Start Time'].dt.hour\n",
    "    popular_hour = df['hour'].mode()[0]\n",
    "    print(\"The most popular start hour is: \", popular_hour)\n",
    "\n",
    "    print(\"\\nThis took %s seconds.\" % (time.time() - start_time))\n",
    "    print('-'*40)"
   ]
  },
  {
   "cell_type": "markdown",
   "id": "2d4c3d10",
   "metadata": {},
   "source": [
    "### Station Stats (function)\n",
    "\n",
    "This function displays statistics on the most popular stations and trip.\n",
    "\n",
    "**The arguements that it takes in are:**\n",
    "- df - Pandas DataFrame containing city data filtered by month and day"
   ]
  },
  {
   "cell_type": "code",
   "execution_count": 7,
   "id": "3a83683e",
   "metadata": {},
   "outputs": [],
   "source": [
    "def station_stats(df):\n",
    "\n",
    "    print('\\nCalculating The Most Popular Stations and Trip...\\n')\n",
    "    start_time = time.time()\n",
    "\n",
    "    # display most commonly used start station\n",
    "    popular_start_station = df['Start Station'].mode()[0]\n",
    "    print(\"The most popular start station is: \", popular_start_station)\n",
    "\n",
    "    # display most commonly used end station\n",
    "    popular_end_station = df['End Station'].mode()[0]\n",
    "    print(\"The most popular end station is: \", popular_end_station)\n",
    "\n",
    "    # display most frequent combination of start station and end station trip\n",
    "    df['Station Combo'] = df['Start Station'] + df['End Station']\n",
    "    popular_station_combo = df['Station Combo'].mode()[0]\n",
    "    print(\"The most popular station combination is: \", popular_station_combo)\n",
    "\n",
    "    print(\"\\nThis took %s seconds.\" % (time.time() - start_time))\n",
    "    print('-'*40)"
   ]
  },
  {
   "cell_type": "markdown",
   "id": "b9ab6071",
   "metadata": {},
   "source": [
    "### Trip Duration Stats (function)\n",
    "\n",
    "This function displays statistics on the total and average trip duration.\n",
    "\n",
    "**The arguements that it takes in are:**\n",
    "- df - Pandas DataFrame containing city data filtered by month and day"
   ]
  },
  {
   "cell_type": "code",
   "execution_count": 8,
   "id": "02ca818d",
   "metadata": {},
   "outputs": [],
   "source": [
    "def trip_duration_stats(df):\n",
    "\n",
    "    print('\\nCalculating Trip Duration...\\n')\n",
    "    start_time = time.time()\n",
    "\n",
    "    # display total travel time\n",
    "    total_travel_time = df['Trip Duration'].sum()\n",
    "    print(\"The total travel time is: \", total_travel_time)\n",
    "\n",
    "    # display mean travel time\n",
    "    average_travel_time = df['Trip Duration'].mean()\n",
    "    print(\"The average travel time is: \", average_travel_time)\n",
    "\n",
    "    print(\"\\nThis took %s seconds.\" % (time.time() - start_time))\n",
    "    print('-'*40)"
   ]
  },
  {
   "cell_type": "markdown",
   "id": "0c856a5a",
   "metadata": {},
   "source": [
    "### User Stats (function)\n",
    "\n",
    "This function displays statistics on bikeshare users.\n",
    "\n",
    "**The arguements that it takes in are:**\n",
    "- df - Pandas DataFrame containing city data filtered by month and day"
   ]
  },
  {
   "cell_type": "code",
   "execution_count": 9,
   "id": "9cf7d1b4",
   "metadata": {},
   "outputs": [],
   "source": [
    "def user_stats(df):\n",
    "\n",
    "    print('\\nCalculating User Stats...\\n')\n",
    "    start_time = time.time()\n",
    "\n",
    "    # Display counts of user types\n",
    "    user_types = df['User Type'].value_counts()\n",
    "    print(user_types)\n",
    "\n",
    "    # Display counts of gender\n",
    "    genders = df['Gender'].value_counts()\n",
    "    print(genders)\n",
    "\n",
    "    # Display earliest, most recent, and most common year of birth\n",
    "    earliest_year = df['Birth Year'].min()\n",
    "    print(\"The earliest year of birth is: \", earliest_year)\n",
    "\n",
    "    latest_year = df['Birth Year'].max()\n",
    "    print(\"The most recent year of birth is: \", latest_year)\n",
    "\n",
    "    most_common_year = df['Birth Year'].mode()[0]\n",
    "    print(\"The most common year of birth is: \", most_common_year)\n",
    "\n",
    "    print(\"\\nThis took %s seconds.\" % (time.time() - start_time))\n",
    "    print('-'*40)"
   ]
  },
  {
   "cell_type": "markdown",
   "id": "6aa4975f",
   "metadata": {},
   "source": [
    "### User Stats 2 (function)\n",
    "\n",
    "This function displays statistics on bikeshare users in Washington. We have a different function for this because the data provided for Washington is different from the data provided for the other two cities.\n",
    "\n",
    "**The arguements that it takes in are:**\n",
    "- df - Pandas DataFrame containing city data filtered by month and day"
   ]
  },
  {
   "cell_type": "code",
   "execution_count": 10,
   "id": "3035fe2e",
   "metadata": {},
   "outputs": [],
   "source": [
    "def user_stats_2(df):\n",
    "\n",
    "    print('\\nCalculating User Stats...\\n')\n",
    "    start_time = time.time()\n",
    "\n",
    "    # Display counts of user types\n",
    "    user_types = df['User Type'].value_counts()\n",
    "    print(user_types)\n",
    "\n",
    "    print(\"\\nThis took %s seconds.\" % (time.time() - start_time))\n",
    "    print('-'*40)"
   ]
  },
  {
   "cell_type": "markdown",
   "id": "e3ad7ce3",
   "metadata": {},
   "source": [
    "### Raw Data (function)\n",
    "\n",
    "This function asks the user if they would like to see some raw data then keeps displaying more and more until the user says no.\n",
    "\n",
    "**The arguements that it takes in are:**\n",
    "- df - Pandas DataFrame containing city data filtered by month and day"
   ]
  },
  {
   "cell_type": "code",
   "execution_count": 11,
   "id": "ac30d821",
   "metadata": {},
   "outputs": [],
   "source": [
    "def raw_data(df):\n",
    "    answer = input('Would you like to see some raw data? (yes or no): ')\n",
    "    i = 0\n",
    "    if answer.lower() == 'no':\n",
    "        message = \"Thank you for your usage\"\n",
    "        return message\n",
    "    else:\n",
    "        while answer.lower() == 'yes':\n",
    "            if i == 0:\n",
    "                print(df[0 : 5])\n",
    "                print('-'*40)\n",
    "                i = 4\n",
    "                answer = input('Would you like to see more raw data? (yes or no): ')\n",
    "                continue\n",
    "            else:\n",
    "                print(df[(i+1) : (i+6)])\n",
    "                print('-'*40)\n",
    "                i += 5\n",
    "                answer = input('Would you like to see more raw data? (yes or no): ')\n",
    "                continue"
   ]
  },
  {
   "cell_type": "markdown",
   "id": "5533a8f6",
   "metadata": {},
   "source": [
    "### Main Method\n",
    "\n",
    "This is the main method where the functions get called."
   ]
  },
  {
   "cell_type": "code",
   "execution_count": 12,
   "id": "0ae14a26",
   "metadata": {},
   "outputs": [
    {
     "name": "stdout",
     "output_type": "stream",
     "text": [
      "Hello! Let's explore some US bikeshare data!\n",
      "Please enter a city name: chicago\n",
      "Please enter a month name or the word all if you do not want to filter: all\n",
      "Please enter a day of the week or the word all if you do not want to filter: all\n",
      "----------------------------------------\n",
      "\n",
      "Calculating The Most Frequent Times of Travel...\n",
      "\n",
      "The most popular month is:  6\n",
      "The most popular day of the week is:  Tuesday\n",
      "The most popular start hour is:  17\n",
      "\n",
      "This took 0.03290057182312012 seconds.\n",
      "----------------------------------------\n",
      "\n",
      "Calculating The Most Popular Stations and Trip...\n",
      "\n",
      "The most popular start station is:  Streeter Dr & Grand Ave\n",
      "The most popular end station is:  Streeter Dr & Grand Ave\n",
      "The most popular station combination is:  Lake Shore Dr & Monroe StStreeter Dr & Grand Ave\n",
      "\n",
      "This took 0.0806577205657959 seconds.\n",
      "----------------------------------------\n",
      "\n",
      "Calculating Trip Duration...\n",
      "\n",
      "The total travel time is:  280871787\n",
      "The average travel time is:  936.23929\n",
      "\n",
      "This took 0.0009965896606445312 seconds.\n",
      "----------------------------------------\n",
      "\n",
      "Calculating User Stats...\n",
      "\n",
      "Subscriber    238889\n",
      "Customer       61110\n",
      "Dependent          1\n",
      "Name: User Type, dtype: int64\n",
      "Male      181190\n",
      "Female     57758\n",
      "Name: Gender, dtype: int64\n",
      "The earliest year of birth is:  1899.0\n",
      "The most recent year of birth is:  2016.0\n",
      "The most common year of birth is:  1989.0\n",
      "\n",
      "This took 0.024916410446166992 seconds.\n",
      "----------------------------------------\n",
      "Would you like to see some raw data? (yes or no): yes\n",
      "   Unnamed: 0          Start Time             End Time  Trip Duration  \\\n",
      "0     1423854 2017-06-23 15:09:32  2017-06-23 15:14:53            321   \n",
      "1      955915 2017-05-25 18:19:03  2017-05-25 18:45:53           1610   \n",
      "2        9031 2017-01-04 08:27:49  2017-01-04 08:34:45            416   \n",
      "3      304487 2017-03-06 13:49:38  2017-03-06 13:55:28            350   \n",
      "4       45207 2017-01-17 14:53:07  2017-01-17 15:02:01            534   \n",
      "\n",
      "                   Start Station                   End Station   User Type  \\\n",
      "0           Wood St & Hubbard St       Damen Ave & Chicago Ave  Subscriber   \n",
      "1            Theater on the Lake  Sheffield Ave & Waveland Ave  Subscriber   \n",
      "2             May St & Taylor St           Wood St & Taylor St  Subscriber   \n",
      "3  Christiana Ave & Lawrence Ave  St. Louis Ave & Balmoral Ave  Subscriber   \n",
      "4         Clark St & Randolph St  Desplaines St & Jackson Blvd  Subscriber   \n",
      "\n",
      "   Gender  Birth Year  month day_of_week  hour  \\\n",
      "0    Male      1992.0      6      Friday    15   \n",
      "1  Female      1992.0      5    Thursday    18   \n",
      "2    Male      1981.0      1   Wednesday     8   \n",
      "3    Male      1986.0      3      Monday    13   \n",
      "4    Male      1975.0      1     Tuesday    14   \n",
      "\n",
      "                                       Station Combo  \n",
      "0        Wood St & Hubbard StDamen Ave & Chicago Ave  \n",
      "1    Theater on the LakeSheffield Ave & Waveland Ave  \n",
      "2              May St & Taylor StWood St & Taylor St  \n",
      "3  Christiana Ave & Lawrence AveSt. Louis Ave & B...  \n",
      "4  Clark St & Randolph StDesplaines St & Jackson ...  \n",
      "----------------------------------------\n",
      "Would you like to see more raw data? (yes or no): no\n",
      "\n",
      "Would you like to restart? Enter yes or no.\n",
      "no\n"
     ]
    }
   ],
   "source": [
    "def main():\n",
    "    while True:\n",
    "        city, month, day = get_filters()\n",
    "        df = load_data(city, month, day)\n",
    "\n",
    "        time_stats(df)\n",
    "        station_stats(df)\n",
    "        trip_duration_stats(df)\n",
    "        \n",
    "        if city.lower() == 'washington':\n",
    "            user_stats_2(df)\n",
    "        else:\n",
    "            user_stats(df)\n",
    "        \n",
    "        raw_data(df)\n",
    "\n",
    "        restart = input('\\nWould you like to restart? Enter yes or no.\\n')\n",
    "        if restart.lower() != 'yes':\n",
    "            break\n",
    "\n",
    "\n",
    "if __name__ == \"__main__\":\n",
    "\tmain()"
   ]
  }
 ],
 "metadata": {
  "kernelspec": {
   "display_name": "Python 3 (ipykernel)",
   "language": "python",
   "name": "python3"
  },
  "language_info": {
   "codemirror_mode": {
    "name": "ipython",
    "version": 3
   },
   "file_extension": ".py",
   "mimetype": "text/x-python",
   "name": "python",
   "nbconvert_exporter": "python",
   "pygments_lexer": "ipython3",
   "version": "3.9.13"
  }
 },
 "nbformat": 4,
 "nbformat_minor": 5
}
